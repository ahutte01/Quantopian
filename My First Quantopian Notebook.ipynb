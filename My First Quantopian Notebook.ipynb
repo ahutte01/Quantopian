{
 "cells": [
  {
   "cell_type": "code",
   "execution_count": 66,
   "metadata": {},
   "outputs": [
    {
     "data": {
      "application/vnd.jupyter.widget-view+json": {
       "model_id": "",
       "version_major": 2,
       "version_minor": 0
      },
      "text/plain": []
     },
     "metadata": {},
     "output_type": "display_data"
    },
    {
     "data": {
      "text/html": [
       "<b>Pipeline Execution Time:</b> 1.36 Seconds"
      ],
      "text/plain": [
       "<IPython.core.display.HTML object>"
      ]
     },
     "metadata": {},
     "output_type": "display_data"
    },
    {
     "name": "stdout",
     "output_type": "stream",
     "text": [
      "                                                    close    volume\n",
      "2012-01-03 00:00:00+00:00 Equity(42306 [SMH])       30.43  629754.0\n",
      "                          Equity(42315 [RSE])       12.74  351047.0\n",
      "                          Equity(42316 [GGP_WI])    14.65     100.0\n",
      "                          Equity(42320 [SCD_WD])      NaN       0.0\n",
      "                          Equity(42334 [FNFG_PRB])  25.60  126928.0\n"
     ]
    }
   ],
   "source": [
    "# Import Data \n",
    "from quantopian.pipeline import Pipeline, CustomFactor\n",
    "from quantopian.pipeline.data import EquityPricing\n",
    "from quantopian.pipeline.domain import US_EQUITIES\n",
    "from quantopian.research import run_pipeline\n",
    "from quantopian.pipeline.factors import SimpleMovingAverage\n",
    "\n",
    "import numpy as np\n",
    "\n",
    "# This is used to inform pipeline engine which column to retrieve for computations\n",
    "daily_close = EquityPricing.close.latest\n",
    "daily_volume = EquityPricing.volume.latest\n",
    "\n",
    "# Define Computations \n",
    "pipe = Pipeline(\n",
    "    columns = {\n",
    "        'close':daily_close,\n",
    "        'volume':daily_volume\n",
    "    },\n",
    "    domain=US_EQUITIES\n",
    ")\n",
    "\n",
    "\n",
    "# Instantiate a Pipeline \n",
    "df = run_pipeline(pipe, '2010-01-01','2011-12-31')\n",
    "print(df.tail())"
   ]
  },
  {
   "cell_type": "code",
   "execution_count": 71,
   "metadata": {},
   "outputs": [],
   "source": [
    "def initialize(context):\n",
    "    context.stock = symbol('AAPL')"
   ]
  },
  {
   "cell_type": "code",
   "execution_count": 77,
   "metadata": {},
   "outputs": [],
   "source": [
    "class StandardDeviation(CustomFactor):\n",
    "    def compute(self, today, asset_ids, out, values):\n",
    "        out[:] = np.nanstd(values, axis=0)"
   ]
  },
  {
   "cell_type": "code",
   "execution_count": 90,
   "metadata": {},
   "outputs": [],
   "source": [
    "def make_pipeline():\n",
    "    \n",
    "    # This is a FACTOR, which is like a function. We do not get the result until we add this to our pipe \n",
    "    sma_20 = SimpleMovingAverage(\n",
    "                inputs = [EquityPricing.close],\n",
    "                window_length = 20\n",
    "    )\n",
    "    \n",
    "    last_price =  EquityPricing.close.latest\n",
    "    \n",
    "    price_sma_ratio = last_price/sma_20\n",
    "    \n",
    "    price_std = StandardDeviation(\n",
    "                inputs = [EquityPricing.close],\n",
    "                window_length = 20\n",
    "    )\n",
    "    \n",
    "    BB_High = sma_20 + 2*price_std\n",
    "    BB_Low = sma_20 - 2*price_std\n",
    "    BB_Percent = (last_price - BB_Low) / (BB_High - BB_Low)\n",
    "    \n",
    "    return Pipeline(\n",
    "        columns = {\n",
    "            \"20_Day_SMA\": sma_20,\n",
    "            \"Latest_Price\": last_price,\n",
    "            \"Price_SMA_Ratio\": price_sma_ratio,\n",
    "            \"STD\": price_std,\n",
    "            \"BB_High\":BB_High,\n",
    "            \"BB_Low\":BB_Low,\n",
    "            \"BB_Percent\":BB_Percent\n",
    "        },\n",
    "    domain=US_EQUITIES\n",
    "    )"
   ]
  },
  {
   "cell_type": "code",
   "execution_count": 91,
   "metadata": {},
   "outputs": [],
   "source": [
    "my_pipe = make_pipeline()"
   ]
  },
  {
   "cell_type": "code",
   "execution_count": 92,
   "metadata": {},
   "outputs": [
    {
     "data": {
      "application/vnd.jupyter.widget-view+json": {
       "model_id": "",
       "version_major": 2,
       "version_minor": 0
      },
      "text/plain": []
     },
     "metadata": {},
     "output_type": "display_data"
    },
    {
     "data": {
      "text/html": [
       "<b>Pipeline Execution Time:</b> 3.28 Seconds"
      ],
      "text/plain": [
       "<IPython.core.display.HTML object>"
      ]
     },
     "metadata": {},
     "output_type": "display_data"
    }
   ],
   "source": [
    "result = run_pipeline(my_pipe, '2010-01-01','2011-12-31')"
   ]
  },
  {
   "cell_type": "code",
   "execution_count": 93,
   "metadata": {},
   "outputs": [
    {
     "data": {
      "text/html": [
       "<div>\n",
       "<table border=\"1\" class=\"dataframe\">\n",
       "  <thead>\n",
       "    <tr style=\"text-align: right;\">\n",
       "      <th></th>\n",
       "      <th></th>\n",
       "      <th>20_Day_SMA</th>\n",
       "      <th>BB_High</th>\n",
       "      <th>BB_Low</th>\n",
       "      <th>BB_Percent</th>\n",
       "      <th>Latest_Price</th>\n",
       "      <th>Price_SMA_Ratio</th>\n",
       "      <th>STD</th>\n",
       "    </tr>\n",
       "  </thead>\n",
       "  <tbody>\n",
       "    <tr>\n",
       "      <th rowspan=\"5\" valign=\"top\">2010-01-04 00:00:00+00:00</th>\n",
       "      <th>Equity(2 [HWM])</th>\n",
       "      <td>14.762950</td>\n",
       "      <td>17.219383</td>\n",
       "      <td>12.306517</td>\n",
       "      <td>0.776224</td>\n",
       "      <td>16.12</td>\n",
       "      <td>1.091923</td>\n",
       "      <td>1.228217</td>\n",
       "    </tr>\n",
       "    <tr>\n",
       "      <th>Equity(21 [AAME])</th>\n",
       "      <td>1.248125</td>\n",
       "      <td>1.380454</td>\n",
       "      <td>1.115796</td>\n",
       "      <td>0.620439</td>\n",
       "      <td>1.28</td>\n",
       "      <td>1.025538</td>\n",
       "      <td>0.066164</td>\n",
       "    </tr>\n",
       "    <tr>\n",
       "      <th>Equity(24 [AAPL])</th>\n",
       "      <td>199.193000</td>\n",
       "      <td>213.578101</td>\n",
       "      <td>184.807899</td>\n",
       "      <td>0.904829</td>\n",
       "      <td>210.84</td>\n",
       "      <td>1.058471</td>\n",
       "      <td>7.192550</td>\n",
       "    </tr>\n",
       "    <tr>\n",
       "      <th>Equity(25 [HWM_PR])</th>\n",
       "      <td>63.622143</td>\n",
       "      <td>65.167645</td>\n",
       "      <td>62.076640</td>\n",
       "      <td>NaN</td>\n",
       "      <td>NaN</td>\n",
       "      <td>NaN</td>\n",
       "      <td>0.772751</td>\n",
       "    </tr>\n",
       "    <tr>\n",
       "      <th>Equity(31 [ABAX])</th>\n",
       "      <td>23.759000</td>\n",
       "      <td>25.630522</td>\n",
       "      <td>21.887478</td>\n",
       "      <td>0.978487</td>\n",
       "      <td>25.55</td>\n",
       "      <td>1.075382</td>\n",
       "      <td>0.935761</td>\n",
       "    </tr>\n",
       "  </tbody>\n",
       "</table>\n",
       "</div>"
      ],
      "text/plain": [
       "                                               20_Day_SMA     BB_High  \\\n",
       "2010-01-04 00:00:00+00:00 Equity(2 [HWM])       14.762950   17.219383   \n",
       "                          Equity(21 [AAME])      1.248125    1.380454   \n",
       "                          Equity(24 [AAPL])    199.193000  213.578101   \n",
       "                          Equity(25 [HWM_PR])   63.622143   65.167645   \n",
       "                          Equity(31 [ABAX])     23.759000   25.630522   \n",
       "\n",
       "                                                   BB_Low  BB_Percent  \\\n",
       "2010-01-04 00:00:00+00:00 Equity(2 [HWM])       12.306517    0.776224   \n",
       "                          Equity(21 [AAME])      1.115796    0.620439   \n",
       "                          Equity(24 [AAPL])    184.807899    0.904829   \n",
       "                          Equity(25 [HWM_PR])   62.076640         NaN   \n",
       "                          Equity(31 [ABAX])     21.887478    0.978487   \n",
       "\n",
       "                                               Latest_Price  Price_SMA_Ratio  \\\n",
       "2010-01-04 00:00:00+00:00 Equity(2 [HWM])             16.12         1.091923   \n",
       "                          Equity(21 [AAME])            1.28         1.025538   \n",
       "                          Equity(24 [AAPL])          210.84         1.058471   \n",
       "                          Equity(25 [HWM_PR])           NaN              NaN   \n",
       "                          Equity(31 [ABAX])           25.55         1.075382   \n",
       "\n",
       "                                                    STD  \n",
       "2010-01-04 00:00:00+00:00 Equity(2 [HWM])      1.228217  \n",
       "                          Equity(21 [AAME])    0.066164  \n",
       "                          Equity(24 [AAPL])    7.192550  \n",
       "                          Equity(25 [HWM_PR])  0.772751  \n",
       "                          Equity(31 [ABAX])    0.935761  "
      ]
     },
     "execution_count": 93,
     "metadata": {},
     "output_type": "execute_result"
    }
   ],
   "source": [
    "# This will show an index for all our securities over the time period\n",
    "\n",
    "# This is a Multi-Index dataframe, with date and Symbol in Index\n",
    "result.head()"
   ]
  },
  {
   "cell_type": "code",
   "execution_count": null,
   "metadata": {},
   "outputs": [],
   "source": []
  },
  {
   "cell_type": "code",
   "execution_count": null,
   "metadata": {},
   "outputs": [],
   "source": []
  },
  {
   "cell_type": "code",
   "execution_count": null,
   "metadata": {},
   "outputs": [],
   "source": []
  }
 ],
 "metadata": {
  "kernelspec": {
   "display_name": "Python 3.5",
   "language": "python",
   "name": "py35"
  },
  "language_info": {
   "codemirror_mode": {
    "name": "ipython",
    "version": 3
   },
   "file_extension": ".py",
   "mimetype": "text/x-python",
   "name": "python",
   "nbconvert_exporter": "python",
   "pygments_lexer": "ipython3",
   "version": "3.5.9"
  }
 },
 "nbformat": 4,
 "nbformat_minor": 2
}